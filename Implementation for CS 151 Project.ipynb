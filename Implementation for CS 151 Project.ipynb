{
 "cells": [
  {
   "cell_type": "markdown",
   "id": "1d3e17d9",
   "metadata": {},
   "source": [
    "Install module"
   ]
  },
  {
   "cell_type": "code",
   "execution_count": 74,
   "id": "d2656d8c",
   "metadata": {},
   "outputs": [
    {
     "name": "stdout",
     "output_type": "stream",
     "text": [
      "Requirement already satisfied: pathlib2 in /Users/kiringodhwani/opt/anaconda3/lib/python3.9/site-packages (2.3.7.post1)\r\n",
      "Requirement already satisfied: six in /Users/kiringodhwani/opt/anaconda3/lib/python3.9/site-packages (from pathlib2) (1.16.0)\r\n"
     ]
    }
   ],
   "source": [
    "!{sys.executable} -m pip install pathlib2"
   ]
  },
  {
   "cell_type": "code",
   "execution_count": 75,
   "id": "f042da02",
   "metadata": {},
   "outputs": [
    {
     "name": "stdout",
     "output_type": "stream",
     "text": [
      "Requirement already satisfied: smartnoise-sql in /Users/kiringodhwani/opt/anaconda3/lib/python3.9/site-packages (0.2.6)\n",
      "Requirement already satisfied: antlr4-python3-runtime==4.9.3 in /Users/kiringodhwani/opt/anaconda3/lib/python3.9/site-packages (from smartnoise-sql) (4.9.3)\n",
      "Requirement already satisfied: graphviz<0.18,>=0.17 in /Users/kiringodhwani/opt/anaconda3/lib/python3.9/site-packages (from smartnoise-sql) (0.17)\n",
      "Requirement already satisfied: pandasql<0.8.0,>=0.7.3 in /Users/kiringodhwani/opt/anaconda3/lib/python3.9/site-packages (from smartnoise-sql) (0.7.3)\n",
      "Requirement already satisfied: PyYAML<6.0.0,>=5.4.1 in /Users/kiringodhwani/opt/anaconda3/lib/python3.9/site-packages (from smartnoise-sql) (5.4.1)\n",
      "Requirement already satisfied: opendp<0.7.0,>=0.6.0 in /Users/kiringodhwani/opt/anaconda3/lib/python3.9/site-packages (from smartnoise-sql) (0.6.1)\n",
      "Requirement already satisfied: sqlalchemy in /Users/kiringodhwani/opt/anaconda3/lib/python3.9/site-packages (from pandasql<0.8.0,>=0.7.3->smartnoise-sql) (1.4.32)\n",
      "Requirement already satisfied: numpy in /Users/kiringodhwani/opt/anaconda3/lib/python3.9/site-packages (from pandasql<0.8.0,>=0.7.3->smartnoise-sql) (1.21.5)\n",
      "Requirement already satisfied: pandas in /Users/kiringodhwani/opt/anaconda3/lib/python3.9/site-packages (from pandasql<0.8.0,>=0.7.3->smartnoise-sql) (1.4.2)\n",
      "Requirement already satisfied: python-dateutil>=2.8.1 in /Users/kiringodhwani/opt/anaconda3/lib/python3.9/site-packages (from pandas->pandasql<0.8.0,>=0.7.3->smartnoise-sql) (2.8.2)\n",
      "Requirement already satisfied: pytz>=2020.1 in /Users/kiringodhwani/opt/anaconda3/lib/python3.9/site-packages (from pandas->pandasql<0.8.0,>=0.7.3->smartnoise-sql) (2021.3)\n",
      "Requirement already satisfied: six>=1.5 in /Users/kiringodhwani/opt/anaconda3/lib/python3.9/site-packages (from python-dateutil>=2.8.1->pandas->pandasql<0.8.0,>=0.7.3->smartnoise-sql) (1.16.0)\n",
      "Requirement already satisfied: greenlet!=0.4.17 in /Users/kiringodhwani/opt/anaconda3/lib/python3.9/site-packages (from sqlalchemy->pandasql<0.8.0,>=0.7.3->smartnoise-sql) (1.1.1)\n"
     ]
    }
   ],
   "source": [
    "import sys\n",
    "!{sys.executable} -m pip install smartnoise-sql"
   ]
  },
  {
   "cell_type": "code",
   "execution_count": 76,
   "id": "e6fd93ab",
   "metadata": {},
   "outputs": [
    {
     "name": "stdout",
     "output_type": "stream",
     "text": [
      "Requirement already satisfied: psycopg2-binary in /Users/kiringodhwani/opt/anaconda3/lib/python3.9/site-packages (2.9.5)\r\n"
     ]
    }
   ],
   "source": [
    "!{sys.executable} -m pip install psycopg2-binary"
   ]
  },
  {
   "cell_type": "code",
   "execution_count": 481,
   "id": "8b8a6ffe",
   "metadata": {},
   "outputs": [
    {
     "ename": "ValueError",
     "evalue": "We don't support aggregation over expressions: SUM ( CASE WHEN data_officer.race = 'White' THEN 1 ELSE  0 END )",
     "output_type": "error",
     "traceback": [
      "\u001b[0;31m---------------------------------------------------------------------------\u001b[0m",
      "\u001b[0;31mValueError\u001b[0m                                Traceback (most recent call last)",
      "Input \u001b[0;32mIn [481]\u001b[0m, in \u001b[0;36m<cell line: 10>\u001b[0;34m()\u001b[0m\n\u001b[1;32m      5\u001b[0m reader \u001b[38;5;241m=\u001b[39m snsql\u001b[38;5;241m.\u001b[39mfrom_connection(pumsdb, privacy\u001b[38;5;241m=\u001b[39mprivacy, metadata\u001b[38;5;241m=\u001b[39mmeta_path)\n\u001b[1;32m      7\u001b[0m \u001b[38;5;66;03m#result = reader.execute('SELECT dac.category, COUNT(*) FROM public.data_allegation as da, public.data_allegationcategory as dac WHERE da.most_common_category_id = dac.id AND da.incident_date >= \"2012-01-01\" GROUP BY dac.category;')\u001b[39;00m\n\u001b[1;32m      8\u001b[0m \u001b[38;5;66;03m#result = reader.execute('SELECT EXTRACT(year FROM incident_date) AS year, COUNT(*) AS number_of_incidents FROM public.lawsuit_lawsuit GROUP BY year')\u001b[39;00m\n\u001b[1;32m      9\u001b[0m \u001b[38;5;66;03m#result = reader.execute(\"SELECT COUNT(*) FROM data_officer WHERE race NOT IN ('White', 'Unknown') AND appointed_date BETWEEN '2000-01-01' AND '2009-12-31';\")\u001b[39;00m\n\u001b[0;32m---> 10\u001b[0m result \u001b[38;5;241m=\u001b[39m \u001b[43mreader\u001b[49m\u001b[38;5;241;43m.\u001b[39;49m\u001b[43mexecute\u001b[49m\u001b[43m(\u001b[49m\u001b[38;5;124;43m\"\u001b[39;49m\u001b[38;5;124;43mSELECT (SUM(CASE WHEN race = \u001b[39;49m\u001b[38;5;124;43m'\u001b[39;49m\u001b[38;5;124;43mWhite\u001b[39;49m\u001b[38;5;124;43m'\u001b[39;49m\u001b[38;5;124;43m THEN 1 ELSE 0 END) / CAST(SUM(CASE WHEN race NOT IN (\u001b[39;49m\u001b[38;5;124;43m'\u001b[39;49m\u001b[38;5;124;43mWhite\u001b[39;49m\u001b[38;5;124;43m'\u001b[39;49m\u001b[38;5;124;43m, \u001b[39;49m\u001b[38;5;124;43m'\u001b[39;49m\u001b[38;5;124;43mUnknown\u001b[39;49m\u001b[38;5;124;43m'\u001b[39;49m\u001b[38;5;124;43m) THEN 1 ELSE 0 END) AS float)) AS percent_poc FROM data_officer WHERE appointed_date > \u001b[39;49m\u001b[38;5;124;43m'\u001b[39;49m\u001b[38;5;124;43m2010-01-01\u001b[39;49m\u001b[38;5;124;43m'\u001b[39;49m\u001b[38;5;124;43m;\u001b[39;49m\u001b[38;5;124;43m\"\u001b[39;49m\u001b[43m)\u001b[49m\n\u001b[1;32m     11\u001b[0m \u001b[38;5;28mprint\u001b[39m(result)\n\u001b[1;32m     13\u001b[0m result[\u001b[38;5;241m1\u001b[39m][\u001b[38;5;241m0\u001b[39m]\n",
      "File \u001b[0;32m~/opt/anaconda3/lib/python3.9/site-packages/snsql/sql/private_reader.py:493\u001b[0m, in \u001b[0;36mPrivateReader.execute\u001b[0;34m(self, query_string, accuracy, pre_aggregated, postprocess, *ignore)\u001b[0m\n\u001b[1;32m    474\u001b[0m \u001b[38;5;124;03m\"\"\"Executes a query and returns a recordset that is differentially private.\u001b[39;00m\n\u001b[1;32m    475\u001b[0m \n\u001b[1;32m    476\u001b[0m \u001b[38;5;124;03mFollows ODBC and DB_API convention of consuming query as a string and returning\u001b[39;00m\n\u001b[0;32m   (...)\u001b[0m\n\u001b[1;32m    490\u001b[0m \n\u001b[1;32m    491\u001b[0m \u001b[38;5;124;03m\"\"\"\u001b[39;00m\n\u001b[1;32m    492\u001b[0m query \u001b[38;5;241m=\u001b[39m \u001b[38;5;28mself\u001b[39m\u001b[38;5;241m.\u001b[39mparse_query_string(query_string)\n\u001b[0;32m--> 493\u001b[0m \u001b[38;5;28;01mreturn\u001b[39;00m \u001b[38;5;28;43mself\u001b[39;49m\u001b[38;5;241;43m.\u001b[39;49m\u001b[43m_execute_ast\u001b[49m\u001b[43m(\u001b[49m\n\u001b[1;32m    494\u001b[0m \u001b[43m    \u001b[49m\u001b[43mquery\u001b[49m\u001b[43m,\u001b[49m\u001b[43m \u001b[49m\n\u001b[1;32m    495\u001b[0m \u001b[43m    \u001b[49m\u001b[43maccuracy\u001b[49m\u001b[38;5;241;43m=\u001b[39;49m\u001b[43maccuracy\u001b[49m\u001b[43m,\u001b[49m\u001b[43m \u001b[49m\n\u001b[1;32m    496\u001b[0m \u001b[43m    \u001b[49m\u001b[43mpre_aggregated\u001b[49m\u001b[38;5;241;43m=\u001b[39;49m\u001b[43mpre_aggregated\u001b[49m\u001b[43m,\u001b[49m\u001b[43m \u001b[49m\n\u001b[1;32m    497\u001b[0m \u001b[43m    \u001b[49m\u001b[43mpostprocess\u001b[49m\u001b[38;5;241;43m=\u001b[39;49m\u001b[43mpostprocess\u001b[49m\n\u001b[1;32m    498\u001b[0m \u001b[43m\u001b[49m\u001b[43m)\u001b[49m\n",
      "File \u001b[0;32m~/opt/anaconda3/lib/python3.9/site-packages/snsql/sql/private_reader.py:504\u001b[0m, in \u001b[0;36mPrivateReader._execute_ast\u001b[0;34m(self, query, accuracy, pre_aggregated, postprocess, *ignore)\u001b[0m\n\u001b[1;32m    501\u001b[0m \u001b[38;5;28;01mif\u001b[39;00m \u001b[38;5;28misinstance\u001b[39m(query, \u001b[38;5;28mstr\u001b[39m):\n\u001b[1;32m    502\u001b[0m     \u001b[38;5;28;01mraise\u001b[39;00m \u001b[38;5;167;01mValueError\u001b[39;00m(\u001b[38;5;124m\"\u001b[39m\u001b[38;5;124mPlease pass AST to _execute_ast.\u001b[39m\u001b[38;5;124m\"\u001b[39m)\n\u001b[0;32m--> 504\u001b[0m subquery, query \u001b[38;5;241m=\u001b[39m \u001b[38;5;28;43mself\u001b[39;49m\u001b[38;5;241;43m.\u001b[39;49m\u001b[43m_rewrite_ast\u001b[49m\u001b[43m(\u001b[49m\u001b[43mquery\u001b[49m\u001b[43m)\u001b[49m\n\u001b[1;32m    506\u001b[0m \u001b[38;5;28;01mif\u001b[39;00m pre_aggregated \u001b[38;5;129;01mis\u001b[39;00m \u001b[38;5;129;01mnot\u001b[39;00m \u001b[38;5;28;01mNone\u001b[39;00m:\n\u001b[1;32m    507\u001b[0m     exact_aggregates \u001b[38;5;241m=\u001b[39m \u001b[38;5;28mself\u001b[39m\u001b[38;5;241m.\u001b[39m_check_pre_aggregated_columns(pre_aggregated, subquery)\n",
      "File \u001b[0;32m~/opt/anaconda3/lib/python3.9/site-packages/snsql/sql/private_reader.py:293\u001b[0m, in \u001b[0;36mPrivateReader._rewrite_ast\u001b[0;34m(self, query)\u001b[0m\n\u001b[1;32m    290\u001b[0m     \u001b[38;5;28mself\u001b[39m\u001b[38;5;241m.\u001b[39m_options\u001b[38;5;241m.\u001b[39mmax_contrib \u001b[38;5;241m=\u001b[39m query_max_contrib\n\u001b[1;32m    292\u001b[0m \u001b[38;5;28mself\u001b[39m\u001b[38;5;241m.\u001b[39m_refresh_options()\n\u001b[0;32m--> 293\u001b[0m query \u001b[38;5;241m=\u001b[39m \u001b[38;5;28;43mself\u001b[39;49m\u001b[38;5;241;43m.\u001b[39;49m\u001b[43mrewriter\u001b[49m\u001b[38;5;241;43m.\u001b[39;49m\u001b[43mquery\u001b[49m\u001b[43m(\u001b[49m\u001b[43mquery\u001b[49m\u001b[43m)\u001b[49m\n\u001b[1;32m    294\u001b[0m query\u001b[38;5;241m.\u001b[39mcompare \u001b[38;5;241m=\u001b[39m \u001b[38;5;28mself\u001b[39m\u001b[38;5;241m.\u001b[39mreader\u001b[38;5;241m.\u001b[39mcompare\n\u001b[1;32m    295\u001b[0m subquery \u001b[38;5;241m=\u001b[39m query\u001b[38;5;241m.\u001b[39msource\u001b[38;5;241m.\u001b[39mrelations[\u001b[38;5;241m0\u001b[39m]\u001b[38;5;241m.\u001b[39mprimary\u001b[38;5;241m.\u001b[39mquery\n",
      "File \u001b[0;32m~/opt/anaconda3/lib/python3.9/site-packages/snsql/sql/private_rewriter.py:163\u001b[0m, in \u001b[0;36mRewriter.query\u001b[0;34m(self, query)\u001b[0m\n\u001b[1;32m    161\u001b[0m \u001b[38;5;28;01mdef\u001b[39;00m \u001b[38;5;21mquery\u001b[39m(\u001b[38;5;28mself\u001b[39m, query):\n\u001b[1;32m    162\u001b[0m     query \u001b[38;5;241m=\u001b[39m QueryParser(\u001b[38;5;28mself\u001b[39m\u001b[38;5;241m.\u001b[39mmetadata)\u001b[38;5;241m.\u001b[39mquery(\u001b[38;5;28mstr\u001b[39m(query))\n\u001b[0;32m--> 163\u001b[0m     \u001b[43mValidate\u001b[49m\u001b[43m(\u001b[49m\u001b[43m)\u001b[49m\u001b[38;5;241;43m.\u001b[39;49m\u001b[43mvalidateQuery\u001b[49m\u001b[43m(\u001b[49m\u001b[43mquery\u001b[49m\u001b[43m,\u001b[49m\u001b[43m \u001b[49m\u001b[38;5;28;43mself\u001b[39;49m\u001b[38;5;241;43m.\u001b[39;49m\u001b[43mmetadata\u001b[49m\u001b[43m)\u001b[49m\n\u001b[1;32m    165\u001b[0m     child_scope \u001b[38;5;241m=\u001b[39m Scope()\n\u001b[1;32m    167\u001b[0m     \u001b[38;5;28;01mif\u001b[39;00m \u001b[38;5;28mself\u001b[39m\u001b[38;5;241m.\u001b[39moptions\u001b[38;5;241m.\u001b[39mrow_privacy:\n",
      "File \u001b[0;32m~/opt/anaconda3/lib/python3.9/site-packages/snsql/_ast/validate.py:21\u001b[0m, in \u001b[0;36mValidate.validateQuery\u001b[0;34m(self, query, metadata)\u001b[0m\n\u001b[1;32m     16\u001b[0m \u001b[38;5;124;03m\"\"\"\u001b[39;00m\n\u001b[1;32m     17\u001b[0m \u001b[38;5;124;03m    Checks the AST for a SELECT query to ensure conformance with\u001b[39;00m\n\u001b[1;32m     18\u001b[0m \u001b[38;5;124;03m    requirements for differential privacy queries.\u001b[39;00m\n\u001b[1;32m     19\u001b[0m \u001b[38;5;124;03m\"\"\"\u001b[39;00m\n\u001b[1;32m     20\u001b[0m qc \u001b[38;5;241m=\u001b[39m QueryConstraints(query, metadata)\n\u001b[0;32m---> 21\u001b[0m \u001b[43mqc\u001b[49m\u001b[38;5;241;43m.\u001b[39;49m\u001b[43mvalidate_all\u001b[49m\u001b[43m(\u001b[49m\u001b[43m)\u001b[49m\n",
      "File \u001b[0;32m~/opt/anaconda3/lib/python3.9/site-packages/snsql/_ast/validate.py:49\u001b[0m, in \u001b[0;36mQueryConstraints.validate_all\u001b[0;34m(self)\u001b[0m\n\u001b[1;32m     42\u001b[0m \u001b[38;5;28mself\u001b[39m\u001b[38;5;241m.\u001b[39mkeycol \u001b[38;5;241m=\u001b[39m \u001b[38;5;28mself\u001b[39m\u001b[38;5;241m.\u001b[39mquery\u001b[38;5;241m.\u001b[39mkey_column\n\u001b[1;32m     44\u001b[0m checks \u001b[38;5;241m=\u001b[39m [\n\u001b[1;32m     45\u001b[0m     func\n\u001b[1;32m     46\u001b[0m     \u001b[38;5;28;01mfor\u001b[39;00m func \u001b[38;5;129;01min\u001b[39;00m \u001b[38;5;28mdir\u001b[39m(QueryConstraints)\n\u001b[1;32m     47\u001b[0m     \u001b[38;5;28;01mif\u001b[39;00m callable(\u001b[38;5;28mgetattr\u001b[39m(QueryConstraints, func)) \u001b[38;5;129;01mand\u001b[39;00m func\u001b[38;5;241m.\u001b[39mstartswith(\u001b[38;5;124m\"\u001b[39m\u001b[38;5;124mcheck_\u001b[39m\u001b[38;5;124m\"\u001b[39m)\n\u001b[1;32m     48\u001b[0m ]\n\u001b[0;32m---> 49\u001b[0m rets \u001b[38;5;241m=\u001b[39m [\u001b[38;5;28mgetattr\u001b[39m(\u001b[38;5;28mself\u001b[39m, check)() \u001b[38;5;28;01mfor\u001b[39;00m check \u001b[38;5;129;01min\u001b[39;00m checks]\n",
      "File \u001b[0;32m~/opt/anaconda3/lib/python3.9/site-packages/snsql/_ast/validate.py:49\u001b[0m, in \u001b[0;36m<listcomp>\u001b[0;34m(.0)\u001b[0m\n\u001b[1;32m     42\u001b[0m \u001b[38;5;28mself\u001b[39m\u001b[38;5;241m.\u001b[39mkeycol \u001b[38;5;241m=\u001b[39m \u001b[38;5;28mself\u001b[39m\u001b[38;5;241m.\u001b[39mquery\u001b[38;5;241m.\u001b[39mkey_column\n\u001b[1;32m     44\u001b[0m checks \u001b[38;5;241m=\u001b[39m [\n\u001b[1;32m     45\u001b[0m     func\n\u001b[1;32m     46\u001b[0m     \u001b[38;5;28;01mfor\u001b[39;00m func \u001b[38;5;129;01min\u001b[39;00m \u001b[38;5;28mdir\u001b[39m(QueryConstraints)\n\u001b[1;32m     47\u001b[0m     \u001b[38;5;28;01mif\u001b[39;00m callable(\u001b[38;5;28mgetattr\u001b[39m(QueryConstraints, func)) \u001b[38;5;129;01mand\u001b[39;00m func\u001b[38;5;241m.\u001b[39mstartswith(\u001b[38;5;124m\"\u001b[39m\u001b[38;5;124mcheck_\u001b[39m\u001b[38;5;124m\"\u001b[39m)\n\u001b[1;32m     48\u001b[0m ]\n\u001b[0;32m---> 49\u001b[0m rets \u001b[38;5;241m=\u001b[39m [\u001b[38;5;28;43mgetattr\u001b[39;49m\u001b[43m(\u001b[49m\u001b[38;5;28;43mself\u001b[39;49m\u001b[43m,\u001b[49m\u001b[43m \u001b[49m\u001b[43mcheck\u001b[49m\u001b[43m)\u001b[49m\u001b[43m(\u001b[49m\u001b[43m)\u001b[49m \u001b[38;5;28;01mfor\u001b[39;00m check \u001b[38;5;129;01min\u001b[39;00m checks]\n",
      "File \u001b[0;32m~/opt/anaconda3/lib/python3.9/site-packages/snsql/_ast/validate.py:68\u001b[0m, in \u001b[0;36mQueryConstraints.check_aggregate\u001b[0;34m(self)\u001b[0m\n\u001b[1;32m     65\u001b[0m \u001b[38;5;28;01mfor\u001b[39;00m ac \u001b[38;5;129;01min\u001b[39;00m aggfuncs:\n\u001b[1;32m     66\u001b[0m     \u001b[38;5;28;01mif\u001b[39;00m \u001b[38;5;129;01mnot\u001b[39;00m \u001b[38;5;28misinstance\u001b[39m(ac\u001b[38;5;241m.\u001b[39mexpression, (TableColumn, AllColumns)):\n\u001b[1;32m     67\u001b[0m         \u001b[38;5;66;03m# should allow literals here?  any scalar that doesn't include a \u001b[39;00m\n\u001b[0;32m---> 68\u001b[0m         \u001b[38;5;28;01mraise\u001b[39;00m \u001b[38;5;167;01mValueError\u001b[39;00m(\u001b[38;5;124m\"\u001b[39m\u001b[38;5;124mWe don\u001b[39m\u001b[38;5;124m'\u001b[39m\u001b[38;5;124mt support aggregation over expressions: \u001b[39m\u001b[38;5;124m\"\u001b[39m \u001b[38;5;241m+\u001b[39m \u001b[38;5;28mstr\u001b[39m(ac))\n\u001b[1;32m     69\u001b[0m     \u001b[38;5;28;01mif\u001b[39;00m ac\u001b[38;5;241m.\u001b[39mexpression\u001b[38;5;241m.\u001b[39mtype() \u001b[38;5;129;01mnot\u001b[39;00m \u001b[38;5;129;01min\u001b[39;00m [\u001b[38;5;124m'\u001b[39m\u001b[38;5;124mint\u001b[39m\u001b[38;5;124m'\u001b[39m, \u001b[38;5;124m'\u001b[39m\u001b[38;5;124mfloat\u001b[39m\u001b[38;5;124m'\u001b[39m, \u001b[38;5;124m'\u001b[39m\u001b[38;5;124mbool\u001b[39m\u001b[38;5;124m'\u001b[39m] \u001b[38;5;129;01mand\u001b[39;00m \u001b[38;5;129;01mnot\u001b[39;00m ac\u001b[38;5;241m.\u001b[39mname \u001b[38;5;241m==\u001b[39m \u001b[38;5;124m'\u001b[39m\u001b[38;5;124mCOUNT\u001b[39m\u001b[38;5;124m'\u001b[39m:\n\u001b[1;32m     70\u001b[0m         \u001b[38;5;28;01mraise\u001b[39;00m \u001b[38;5;167;01mValueError\u001b[39;00m(\u001b[38;5;124mf\u001b[39m\u001b[38;5;124m\"\u001b[39m\u001b[38;5;124mAggregations must be over numeric or boolean, got \u001b[39m\u001b[38;5;132;01m{\u001b[39;00mac\u001b[38;5;241m.\u001b[39mexpression\u001b[38;5;241m.\u001b[39mtype()\u001b[38;5;132;01m}\u001b[39;00m\u001b[38;5;124m in \u001b[39m\u001b[38;5;132;01m{\u001b[39;00m\u001b[38;5;28mstr\u001b[39m(ac)\u001b[38;5;132;01m}\u001b[39;00m\u001b[38;5;124m\"\u001b[39m)\n",
      "\u001b[0;31mValueError\u001b[0m: We don't support aggregation over expressions: SUM ( CASE WHEN data_officer.race = 'White' THEN 1 ELSE  0 END )"
     ]
    }
   ],
   "source": [
    "privacy = Privacy(epsilon=0.01, delta=0.01)\n",
    "meta_path = '/Users/kiringodhwani/Desktop/PUMS.yaml'\n",
    "\n",
    "pumsdb = psycopg2.connect(user='postgres', host='localhost', database='ChicagoPolice')\n",
    "reader = snsql.from_connection(pumsdb, privacy=privacy, metadata=meta_path)\n",
    "\n",
    "#result = reader.execute('SELECT dac.category, COUNT(*) FROM public.data_allegation as da, public.data_allegationcategory as dac WHERE da.most_common_category_id = dac.id AND da.incident_date >= \"2012-01-01\" GROUP BY dac.category;')\n",
    "#result = reader.execute('SELECT EXTRACT(year FROM incident_date) AS year, COUNT(*) AS number_of_incidents FROM public.lawsuit_lawsuit GROUP BY year')\n",
    "#result = reader.execute(\"SELECT COUNT(*) FROM data_officer WHERE race NOT IN ('White', 'Unknown') AND appointed_date BETWEEN '2000-01-01' AND '2009-12-31';\")\n",
    "result = reader.execute(\"SELECT (SUM(CASE WHEN race = 'White' THEN 1 ELSE 0 END) / CAST(SUM(CASE WHEN race NOT IN ('White', 'Unknown') THEN 1 ELSE 0 END) AS float)) AS percent_poc FROM data_officer WHERE appointed_date > '2010-01-01';\")\n",
    "print(result)\n",
    "\n",
    "result[1][0]"
   ]
  },
  {
   "cell_type": "markdown",
   "id": "848f19b9",
   "metadata": {},
   "source": [
    "ERROR CALCULATIONS FOR QUERIES 1,2,4,5,7,8"
   ]
  },
  {
   "cell_type": "code",
   "execution_count": 437,
   "id": "f63ef264",
   "metadata": {},
   "outputs": [
    {
     "data": {
      "text/plain": [
       "<matplotlib.collections.PathCollection at 0x7f98549e2d90>"
      ]
     },
     "execution_count": 437,
     "metadata": {},
     "output_type": "execute_result"
    },
    {
     "data": {
      "image/png": "[encoded data removed]",
      "text/plain": [
       "<Figure size 432x288 with 1 Axes>"
      ]
     },
     "metadata": {
      "needs_background": "light"
     },
     "output_type": "display_data"
    }
   ],
   "source": [
    "import snsql\n",
    "from snsql import Privacy\n",
    "import psycopg2\n",
    "import matplotlib.pyplot as mpl\n",
    "import numpy as np\n",
    "\n",
    "# QUERY 1\n",
    "#epsilons = np.arange(0.003,0.013,0.001)\n",
    "#actual_value = 2437\n",
    "#epsilons = np.array([0.006])\n",
    "\n",
    "# QUERY 2\n",
    "#epsilons = np.arange(0.002,0.012,0.001)\n",
    "#actual_value = 4863\n",
    "\n",
    "# QUERY 4\n",
    "#epsilons = np.arange(0.002,0.012,0.001)\n",
    "#actual_value = 3091\n",
    "\n",
    "# QUERY 5\n",
    "#epsilons = np.arange(0.002,0.012,0.001)\n",
    "#actual_value = 5419\n",
    "\n",
    "# QUERY 7\n",
    "#epsilons = np.arange(0.0001,0.0002, 0.00001)\n",
    "#actual_value = 94727\n",
    "\n",
    "# QUERY 8\n",
    "#epsilons = np.arange(0.00015,0.00065, 0.00005)\n",
    "#actual_value = 55780\n",
    "\n",
    "x_axis_of_epsilons = []\n",
    "errors = []\n",
    "for i in epsilons:\n",
    "    for j in range(10):\n",
    "        privacy = Privacy(epsilon=i,delta=0.01)\n",
    "        meta_path = '/Users/kiringodhwani/Desktop/PUMS.yaml'\n",
    "\n",
    "        pumsdb = psycopg2.connect(user='postgres', host='localhost', database='ChicagoPolice')\n",
    "        reader = snsql.from_connection(pumsdb, privacy=privacy, metadata=meta_path)\n",
    "        \n",
    "        # QUERY 1\n",
    "        #result = reader.execute(\"SELECT COUNT(*) FROM data_officer WHERE race NOT IN ('White', 'Unknown') AND appointed_date BETWEEN '2000-01-01' AND '2009-12-31';\")\n",
    "        \n",
    "        # QUERY 2\n",
    "        #result = reader.execute(\"SELECT COUNT(id) FROM data_officer WHERE race != 'Unknown' AND appointed_date BETWEEN '2000-01-01' AND '2009-12-31';\")\n",
    "        \n",
    "        # QUERY 4\n",
    "        #result = reader.execute(\"SELECT COUNT(*) FROM data_officer WHERE race NOT IN ('White', 'Unknown') AND appointed_date >= '2010-01-01';\")\n",
    "        \n",
    "        # QUERY 5\n",
    "        #result = reader.execute(\"SELECT COUNT(*) FROM data_officer WHERE race != 'Unknown' AND appointed_date >= '2010-01-01';\")\n",
    "        \n",
    "        # QUERY 7\n",
    "        #result = reader.execute(\"SELECT COUNT(*) FROM data_allegation WHERE incident_date BETWEEN '2000-01-01' AND '2009-12-31';\")\n",
    "        \n",
    "        # QUERY 8\n",
    "        #result = reader.execute(\"SELECT COUNT(*) FROM data_allegation WHERE incident_date >= '2010-01-01';\")\n",
    "        \n",
    "        noised_ans = result[1][0]\n",
    "        percent_error = (abs(noised_ans - actual_value) / actual_value) * 100\n",
    "        \n",
    "        x_axis_of_epsilons.append(i)\n",
    "        errors.append(percent_error)\n",
    "\n",
    "mpl.scatter(x_axis_of_epsilons, errors)\n",
    "        \n",
    "\n"
   ]
  },
  {
   "cell_type": "markdown",
   "id": "2311b0dd",
   "metadata": {},
   "source": [
    "RUNTIME CALCULATIONS FOR QUERIES 1,2,4,5,7,8"
   ]
  },
  {
   "cell_type": "code",
   "execution_count": 438,
   "id": "077c40bc",
   "metadata": {},
   "outputs": [
    {
     "data": {
      "text/plain": [
       "<matplotlib.collections.PathCollection at 0x7f9854a7eac0>"
      ]
     },
     "execution_count": 438,
     "metadata": {},
     "output_type": "execute_result"
    },
    {
     "data": {
      "image/png": "[encoded data removed]",
      "text/plain": [
       "<Figure size 432x288 with 1 Axes>"
      ]
     },
     "metadata": {
      "needs_background": "light"
     },
     "output_type": "display_data"
    }
   ],
   "source": [
    "import time\n",
    "\n",
    "# QUERY 1\n",
    "#epsilons = np.arange(0.003,0.013,0.001)\n",
    "#actual_value = 2437\n",
    "\n",
    "# QUERY 2\n",
    "#epsilons = np.arange(0.002,0.012,0.001)\n",
    "#actual_value = 4863\n",
    "\n",
    "# QUERY 4\n",
    "#epsilons = np.arange(0.002,0.012,0.001)\n",
    "#actual_value = 3091\n",
    "\n",
    "# QUERY 5\n",
    "#epsilons = np.arange(0.002,0.012,0.001)\n",
    "#actual_value = 5419\n",
    "\n",
    "# QUERY 7\n",
    "#epsilons = np.arange(0.0001,0.0002, 0.00001)\n",
    "#actual_value = 94727\n",
    "\n",
    "# QUERY 8\n",
    "epsilons = np.arange(0.00015,0.00065, 0.00005)\n",
    "actual_value = 55780\n",
    "\n",
    "\n",
    "privacy = Privacy(epsilon=i, delta=0.01)\n",
    "meta_path = '/Users/kiringodhwani/Desktop/PUMS.yaml'\n",
    "\n",
    "pumsdb = psycopg2.connect(user='postgres', host='localhost', database='ChicagoPolice')\n",
    "reader = snsql.from_connection(pumsdb, privacy=privacy, metadata=meta_path)\n",
    "        \n",
    "start = time.time()\n",
    "        \n",
    "# QUERY 1\n",
    "#result = reader.execute(\"SELECT COUNT(*) FROM data_officer WHERE race NOT IN ('White', 'Unknown') AND appointed_date BETWEEN '2000-01-01' AND '2009-12-31';\")\n",
    "\n",
    "# QUERY 2\n",
    "#result = reader.execute(\"SELECT COUNT(id) FROM data_officer WHERE race != 'Unknown' AND appointed_date BETWEEN '2000-01-01' AND '2009-12-31';\")\n",
    "   \n",
    "# QUERY 4\n",
    "#result = reader.execute(\"SELECT COUNT(*) FROM data_officer WHERE race NOT IN ('White', 'Unknown') AND appointed_date >= '2010-01-01';\")\n",
    "\n",
    "# QUERY 5\n",
    "#result = reader.execute(\"SELECT COUNT(*) FROM data_officer WHERE race != 'Unknown' AND appointed_date >= '2010-01-01';\")\n",
    "\n",
    "# QUERY 7\n",
    "#result = reader.execute(\"SELECT COUNT(*) FROM data_allegation WHERE incident_date BETWEEN '2000-01-01' AND '2009-12-31';\")\n",
    "\n",
    "# QUERY 8\n",
    "result = reader.execute(\"SELECT COUNT(*) FROM data_allegation WHERE incident_date >= '2010-01-01';\")\n",
    "\n",
    "x_axis_of_epsilons = []\n",
    "runtimes = []\n",
    "for i in epsilons:\n",
    "    for j in range(10):\n",
    "        privacy = Privacy(epsilon=i, delta=0.01)\n",
    "        meta_path = '/Users/kiringodhwani/Desktop/PUMS.yaml'\n",
    "\n",
    "        pumsdb = psycopg2.connect(user='postgres', host='localhost', database='ChicagoPolice')\n",
    "        reader = snsql.from_connection(pumsdb, privacy=privacy, metadata=meta_path)\n",
    "        \n",
    "        start = time.time()\n",
    "        \n",
    "        # QUERY 1\n",
    "        #result = reader.execute(\"SELECT COUNT(*) FROM data_officer WHERE race NOT IN ('White', 'Unknown') AND appointed_date BETWEEN '2000-01-01' AND '2009-12-31';\")\n",
    "\n",
    "        # QUERY 2\n",
    "        #result = reader.execute(\"SELECT COUNT(id) FROM data_officer WHERE race != 'Unknown' AND appointed_date BETWEEN '2000-01-01' AND '2009-12-31';\")\n",
    "        \n",
    "        # QUERY 4\n",
    "        #result = reader.execute(\"SELECT COUNT(*) FROM data_officer WHERE race NOT IN ('White', 'Unknown') AND appointed_date >= '2010-01-01';\")\n",
    "\n",
    "        # QUERY 5\n",
    "        #result = reader.execute(\"SELECT COUNT(*) FROM data_officer WHERE race != 'Unknown' AND appointed_date >= '2010-01-01';\")\n",
    "        \n",
    "        # QUERY 7\n",
    "        #result = reader.execute(\"SELECT COUNT(*) FROM data_allegation WHERE incident_date BETWEEN '2000-01-01' AND '2009-12-31';\")\n",
    "        \n",
    "        # QUERY 8\n",
    "        result = reader.execute(\"SELECT COUNT(*) FROM data_allegation WHERE incident_date >= '2010-01-01';\")\n",
    "        \n",
    "        end = time.time()\n",
    "        elapsed = end - start\n",
    "        x_axis_of_epsilons.append(i)\n",
    "        runtimes.append(elapsed)\n",
    "\n",
    "mpl.scatter(x_axis_of_epsilons, runtimes)\n",
    "\n"
   ]
  },
  {
   "cell_type": "markdown",
   "id": "9f07a4a3",
   "metadata": {},
   "source": [
    "ERROR CALCULATIONS FOR QUERIES 3 AND 6"
   ]
  },
  {
   "cell_type": "code",
   "execution_count": 480,
   "id": "f51116bb",
   "metadata": {
    "scrolled": false
   },
   "outputs": [
    {
     "name": "stdout",
     "output_type": "stream",
     "text": [
      "[0.47878787878787876, 0.3521361198446458, 0.5008443908323281, 0.4979533360622186, 0.3691561590688652, 0.5073399882560188, 0.6747279322853688, 0.43975340930319445, 0.6250262439638883, 0.5666450637286671]\n"
     ]
    },
    {
     "data": {
      "text/plain": [
       "<matplotlib.collections.PathCollection at 0x7f987a4c0610>"
      ]
     },
     "execution_count": 480,
     "metadata": {},
     "output_type": "execute_result"
    },
    {
     "data": {
      "image/png": "[encoded data removed]",
      "text/plain": [
       "<Figure size 432x288 with 1 Axes>"
      ]
     },
     "metadata": {
      "needs_background": "light"
     },
     "output_type": "display_data"
    }
   ],
   "source": [
    "# QUERIES 1 and 2\n",
    "epsilon1 = 0.006\n",
    "epsilon2 = 0.003\n",
    "actual_value = 0.501234\n",
    "\n",
    "# QUERIES 4 and 5\n",
    "#epsilon4 = 0.005\n",
    "#epsilon5 = 0.003\n",
    "#actual_value = 0.5704\n",
    "\n",
    "poc_counts = []\n",
    "total_counts = []\n",
    "\n",
    "for j in range(10):\n",
    "    privacy = Privacy(epsilon=epsilon1, delta=0.01)\n",
    "    meta_path = '/Users/kiringodhwani/Desktop/PUMS.yaml'\n",
    "\n",
    "    pumsdb = psycopg2.connect(user='postgres', host='localhost', database='ChicagoPolice')\n",
    "    reader = snsql.from_connection(pumsdb, privacy=privacy, metadata=meta_path)\n",
    "        \n",
    "    # Query 1\n",
    "    result1 = reader.execute(\"SELECT COUNT(*) FROM data_officer WHERE race NOT IN ('White', 'Unknown') AND appointed_date BETWEEN '2000-01-01' AND '2009-12-31';\")\n",
    "    \n",
    "    # QUERY 4\n",
    "    #result1 = reader.execute(\"SELECT COUNT(*) FROM data_officer WHERE race NOT IN ('White', 'Unknown') AND appointed_date >= '2010-01-01';\")\n",
    "\n",
    "    poc_counts.append(result1[1][0])\n",
    "\n",
    "\n",
    "for j in range(10):\n",
    "    privacy = Privacy(epsilon=epsilon2, delta=0.01)\n",
    "    meta_path = '/Users/kiringodhwani/Desktop/PUMS.yaml'\n",
    "\n",
    "    pumsdb = psycopg2.connect(user='postgres', host='localhost', database='ChicagoPolice')\n",
    "    reader = snsql.from_connection(pumsdb, privacy=privacy, metadata=meta_path)\n",
    "        \n",
    "    # Query 2\n",
    "    result2 = reader.execute(\"SELECT COUNT(id) FROM data_officer WHERE race != 'Unknown' AND appointed_date BETWEEN '2000-01-01' AND '2009-12-31';\")\n",
    "    \n",
    "    # QUERY 5\n",
    "    #result2 = reader.execute(\"SELECT COUNT(*) FROM data_officer WHERE race != 'Unknown' AND appointed_date >= '2010-01-01';\")\n",
    "    \n",
    "    total_counts.append(result2[1][0])\n",
    "\n",
    "\n",
    "# Calculate the noised percentages from the results of the noised queries.\n",
    "noised_percentages = [x / y for x, y in zip(poc_counts, total_counts)]\n",
    "print(noised_percentages)\n",
    "\n",
    "percent_errors = list(map(lambda x: (abs(x - actual_value) / actual_value) * 100, noised_percentages))\n",
    "\n",
    "mpl.scatter(range(1,11), percent_errors)"
   ]
  }
 ],
 "metadata": {
  "kernelspec": {
   "display_name": "Python 3 (ipykernel)",
   "language": "python",
   "name": "python3"
  },
  "language_info": {
   "codemirror_mode": {
    "name": "ipython",
    "version": 3
   },
   "file_extension": ".py",
   "mimetype": "text/x-python",
   "name": "python",
   "nbconvert_exporter": "python",
   "pygments_lexer": "ipython3",
   "version": "3.9.12"
  }
 },
 "nbformat": 4,
 "nbformat_minor": 5
}
